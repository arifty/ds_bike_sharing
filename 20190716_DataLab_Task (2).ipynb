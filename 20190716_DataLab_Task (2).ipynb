{
 "cells": [
  {
   "cell_type": "markdown",
   "metadata": {},
   "source": [
    "# Sixt Data Science Lab - Test Task for Data Scientist Job Candidates"
   ]
  },
  {
   "cell_type": "markdown",
   "metadata": {},
   "source": [
    "## Introduction\n",
    "\n",
    "In this test task you will have an opportunity to demonstrate your skills of a Data Scientist from various angles - processing data, analyzing and vizalizing it, finding insights, applying predictive techniques and explaining your reasoning about it.\n",
    "\n",
    "The task is based around a bike sharing dataset openly available at UCI Machine Learning Repository [1].\n",
    "\n",
    "Please go through the steps below, build up the necessary code and comment on your choices."
   ]
  },
  {
   "cell_type": "markdown",
   "metadata": {},
   "source": [
    "## Part 1 - Data Loading and Environment Preparation\n",
    "\n",
    "**Tasks:**\n",
    "1. Prepare a Python 3 virtual environment (with virtualenv command). requirements.txt output of pip freeze command should be included as part of your submission.\n",
    "2. Load the data from UCI Repository and put it into the same folder with the notebook. The link to it is https://archive.ics.uci.edu/ml/datasets/bike+sharing+dataset .\n",
    "3. Load the data into Python runtime as Pandas dataframe.\n",
    "4. Split the data into two parts. One dataset containing the last 30 days and one dataset with the rest. You will need the dataset with the last 30 days in part 5  "
   ]
  },
  {
   "cell_type": "code",
   "execution_count": 1,
   "metadata": {
    "collapsed": true
   },
   "outputs": [],
   "source": [
    "## TASK: 1 ##\n",
    "# create a virtual environment and activate it with below commands\n",
    "# py -m venv .venv/\n",
    "# cd .venv/Scripts\n",
    "# cmd\n",
    "# activate"
   ]
  },
  {
   "cell_type": "code",
   "execution_count": null,
   "metadata": {},
   "outputs": [],
   "source": [
    "## TASK: 2 ##\n",
    "# download the input data csv files from the given link and place it in the input folder"
   ]
  },
  {
   "cell_type": "markdown",
   "metadata": {},
   "source": [
    "**Answers / comments / reasoning:**\n",
    "\n",
    "-"
   ]
  },
  {
   "cell_type": "code",
   "execution_count": 1,
   "metadata": {},
   "outputs": [],
   "source": [
    "## TASK: 3 ##\n",
    "\n",
    "# import the libraries\n",
    "import os, sys, importlib\n",
    "import pandas as pd\n",
    "import seaborn as sns\n",
    "import numpy as np\n",
    "from matplotlib import pyplot as plt\n",
    "from datetime import datetime, timedelta, date\n",
    "\n",
    "%matplotlib inline\n",
    "#pd.options.display.html.table_schema = True\n",
    "#sys.path.append('./venv/Lib/site-packages')\n",
    "\n"
   ]
  },
  {
   "cell_type": "code",
   "execution_count": 2,
   "metadata": {},
   "outputs": [],
   "source": [
    "daily_data = pd.read_csv('D:\\\\CV\\\\Arif\\\\2020\\\\Germany\\\\Tech_Round\\\\input' +\"\\\\day.csv\", sep=',')"
   ]
  },
  {
   "cell_type": "code",
   "execution_count": 3,
   "metadata": {
    "tags": []
   },
   "outputs": [
    {
     "output_type": "stream",
     "name": "stdout",
     "text": "<class 'pandas.core.frame.DataFrame'>\nRangeIndex: 731 entries, 0 to 730\nData columns (total 16 columns):\n #   Column      Non-Null Count  Dtype  \n---  ------      --------------  -----  \n 0   instant     731 non-null    int64  \n 1   dteday      731 non-null    object \n 2   season      731 non-null    int64  \n 3   yr          731 non-null    int64  \n 4   mnth        731 non-null    int64  \n 5   holiday     731 non-null    int64  \n 6   weekday     731 non-null    int64  \n 7   workingday  731 non-null    int64  \n 8   weathersit  731 non-null    int64  \n 9   temp        731 non-null    float64\n 10  atemp       731 non-null    float64\n 11  hum         731 non-null    float64\n 12  windspeed   731 non-null    float64\n 13  casual      731 non-null    int64  \n 14  registered  731 non-null    int64  \n 15  cnt         731 non-null    int64  \ndtypes: float64(4), int64(11), object(1)\nmemory usage: 91.5+ KB\n"
    }
   ],
   "source": [
    "daily_data.info()\n"
   ]
  },
  {
   "cell_type": "code",
   "execution_count": 5,
   "metadata": {},
   "outputs": [
    {
     "output_type": "execute_result",
     "data": {
      "text/plain": "     instant      dteday  season  yr  mnth  holiday  weekday  workingday  \\\n149      150  2011-05-30       2   0     5        1        1           0   \n23        24  2011-01-24       1   0     1        0        1           1   \n321      322  2011-11-18       4   0    11        0        5           1   \n498      499  2012-05-13       2   1     5        0        0           0   \n418      419  2012-02-23       1   1     2        0        4           1   \n\n     weathersit      temp     atemp       hum  windspeed  casual  registered  \\\n149           1  0.733333  0.671092  0.685000   0.131225    1549        2549   \n23            1  0.097391  0.117930  0.491739   0.158330      86        1330   \n321           1  0.274167  0.272721  0.410000   0.168533     245        3147   \n498           1  0.612500  0.585238  0.576250   0.225117    2172        3946   \n418           1  0.454167  0.444446  0.554583   0.190913     516        4546   \n\n      cnt  \n149  4098  \n23   1416  \n321  3392  \n498  6118  \n418  5062  ",
      "text/html": "<div>\n<style scoped>\n    .dataframe tbody tr th:only-of-type {\n        vertical-align: middle;\n    }\n\n    .dataframe tbody tr th {\n        vertical-align: top;\n    }\n\n    .dataframe thead th {\n        text-align: right;\n    }\n</style>\n<table border=\"1\" class=\"dataframe\">\n  <thead>\n    <tr style=\"text-align: right;\">\n      <th></th>\n      <th>instant</th>\n      <th>dteday</th>\n      <th>season</th>\n      <th>yr</th>\n      <th>mnth</th>\n      <th>holiday</th>\n      <th>weekday</th>\n      <th>workingday</th>\n      <th>weathersit</th>\n      <th>temp</th>\n      <th>atemp</th>\n      <th>hum</th>\n      <th>windspeed</th>\n      <th>casual</th>\n      <th>registered</th>\n      <th>cnt</th>\n    </tr>\n  </thead>\n  <tbody>\n    <tr>\n      <th>149</th>\n      <td>150</td>\n      <td>2011-05-30</td>\n      <td>2</td>\n      <td>0</td>\n      <td>5</td>\n      <td>1</td>\n      <td>1</td>\n      <td>0</td>\n      <td>1</td>\n      <td>0.733333</td>\n      <td>0.671092</td>\n      <td>0.685000</td>\n      <td>0.131225</td>\n      <td>1549</td>\n      <td>2549</td>\n      <td>4098</td>\n    </tr>\n    <tr>\n      <th>23</th>\n      <td>24</td>\n      <td>2011-01-24</td>\n      <td>1</td>\n      <td>0</td>\n      <td>1</td>\n      <td>0</td>\n      <td>1</td>\n      <td>1</td>\n      <td>1</td>\n      <td>0.097391</td>\n      <td>0.117930</td>\n      <td>0.491739</td>\n      <td>0.158330</td>\n      <td>86</td>\n      <td>1330</td>\n      <td>1416</td>\n    </tr>\n    <tr>\n      <th>321</th>\n      <td>322</td>\n      <td>2011-11-18</td>\n      <td>4</td>\n      <td>0</td>\n      <td>11</td>\n      <td>0</td>\n      <td>5</td>\n      <td>1</td>\n      <td>1</td>\n      <td>0.274167</td>\n      <td>0.272721</td>\n      <td>0.410000</td>\n      <td>0.168533</td>\n      <td>245</td>\n      <td>3147</td>\n      <td>3392</td>\n    </tr>\n    <tr>\n      <th>498</th>\n      <td>499</td>\n      <td>2012-05-13</td>\n      <td>2</td>\n      <td>1</td>\n      <td>5</td>\n      <td>0</td>\n      <td>0</td>\n      <td>0</td>\n      <td>1</td>\n      <td>0.612500</td>\n      <td>0.585238</td>\n      <td>0.576250</td>\n      <td>0.225117</td>\n      <td>2172</td>\n      <td>3946</td>\n      <td>6118</td>\n    </tr>\n    <tr>\n      <th>418</th>\n      <td>419</td>\n      <td>2012-02-23</td>\n      <td>1</td>\n      <td>1</td>\n      <td>2</td>\n      <td>0</td>\n      <td>4</td>\n      <td>1</td>\n      <td>1</td>\n      <td>0.454167</td>\n      <td>0.444446</td>\n      <td>0.554583</td>\n      <td>0.190913</td>\n      <td>516</td>\n      <td>4546</td>\n      <td>5062</td>\n    </tr>\n  </tbody>\n</table>\n</div>"
     },
     "metadata": {},
     "execution_count": 5
    }
   ],
   "source": [
    "daily_data.sample(5)"
   ]
  },
  {
   "cell_type": "code",
   "execution_count": 16,
   "metadata": {},
   "outputs": [
    {
     "output_type": "execute_result",
     "data": {
      "text/plain": "   instant      dteday  season  yr  mnth  holiday  weekday  workingday  \\\n0        1  2011-01-01       1   0     1        0        6           0   \n1        2  2011-01-02       1   0     1        0        0           0   \n2        3  2011-01-03       1   0     1        0        1           1   \n3        4  2011-01-04       1   0     1        0        2           1   \n4        5  2011-01-05       1   0     1        0        3           1   \n\n   weathersit      temp     atemp       hum  windspeed  casual  registered  \\\n0           2  0.344167  0.363625  0.805833   0.160446     331         654   \n1           2  0.363478  0.353739  0.696087   0.248539     131         670   \n2           1  0.196364  0.189405  0.437273   0.248309     120        1229   \n3           1  0.200000  0.212122  0.590435   0.160296     108        1454   \n4           1  0.226957  0.229270  0.436957   0.186900      82        1518   \n\n    cnt  \n0   985  \n1   801  \n2  1349  \n3  1562  \n4  1600  ",
      "text/html": "<div>\n<style scoped>\n    .dataframe tbody tr th:only-of-type {\n        vertical-align: middle;\n    }\n\n    .dataframe tbody tr th {\n        vertical-align: top;\n    }\n\n    .dataframe thead th {\n        text-align: right;\n    }\n</style>\n<table border=\"1\" class=\"dataframe\">\n  <thead>\n    <tr style=\"text-align: right;\">\n      <th></th>\n      <th>instant</th>\n      <th>dteday</th>\n      <th>season</th>\n      <th>yr</th>\n      <th>mnth</th>\n      <th>holiday</th>\n      <th>weekday</th>\n      <th>workingday</th>\n      <th>weathersit</th>\n      <th>temp</th>\n      <th>atemp</th>\n      <th>hum</th>\n      <th>windspeed</th>\n      <th>casual</th>\n      <th>registered</th>\n      <th>cnt</th>\n    </tr>\n  </thead>\n  <tbody>\n    <tr>\n      <th>0</th>\n      <td>1</td>\n      <td>2011-01-01</td>\n      <td>1</td>\n      <td>0</td>\n      <td>1</td>\n      <td>0</td>\n      <td>6</td>\n      <td>0</td>\n      <td>2</td>\n      <td>0.344167</td>\n      <td>0.363625</td>\n      <td>0.805833</td>\n      <td>0.160446</td>\n      <td>331</td>\n      <td>654</td>\n      <td>985</td>\n    </tr>\n    <tr>\n      <th>1</th>\n      <td>2</td>\n      <td>2011-01-02</td>\n      <td>1</td>\n      <td>0</td>\n      <td>1</td>\n      <td>0</td>\n      <td>0</td>\n      <td>0</td>\n      <td>2</td>\n      <td>0.363478</td>\n      <td>0.353739</td>\n      <td>0.696087</td>\n      <td>0.248539</td>\n      <td>131</td>\n      <td>670</td>\n      <td>801</td>\n    </tr>\n    <tr>\n      <th>2</th>\n      <td>3</td>\n      <td>2011-01-03</td>\n      <td>1</td>\n      <td>0</td>\n      <td>1</td>\n      <td>0</td>\n      <td>1</td>\n      <td>1</td>\n      <td>1</td>\n      <td>0.196364</td>\n      <td>0.189405</td>\n      <td>0.437273</td>\n      <td>0.248309</td>\n      <td>120</td>\n      <td>1229</td>\n      <td>1349</td>\n    </tr>\n    <tr>\n      <th>3</th>\n      <td>4</td>\n      <td>2011-01-04</td>\n      <td>1</td>\n      <td>0</td>\n      <td>1</td>\n      <td>0</td>\n      <td>2</td>\n      <td>1</td>\n      <td>1</td>\n      <td>0.200000</td>\n      <td>0.212122</td>\n      <td>0.590435</td>\n      <td>0.160296</td>\n      <td>108</td>\n      <td>1454</td>\n      <td>1562</td>\n    </tr>\n    <tr>\n      <th>4</th>\n      <td>5</td>\n      <td>2011-01-05</td>\n      <td>1</td>\n      <td>0</td>\n      <td>1</td>\n      <td>0</td>\n      <td>3</td>\n      <td>1</td>\n      <td>1</td>\n      <td>0.226957</td>\n      <td>0.229270</td>\n      <td>0.436957</td>\n      <td>0.186900</td>\n      <td>82</td>\n      <td>1518</td>\n      <td>1600</td>\n    </tr>\n  </tbody>\n</table>\n</div>",
      "application/vnd.dataresource+json": {
       "schema": {
        "fields": [
         {
          "name": "index",
          "type": "integer"
         },
         {
          "name": "instant",
          "type": "integer"
         },
         {
          "name": "dteday",
          "type": "string"
         },
         {
          "name": "season",
          "type": "integer"
         },
         {
          "name": "yr",
          "type": "integer"
         },
         {
          "name": "mnth",
          "type": "integer"
         },
         {
          "name": "holiday",
          "type": "integer"
         },
         {
          "name": "weekday",
          "type": "integer"
         },
         {
          "name": "workingday",
          "type": "integer"
         },
         {
          "name": "weathersit",
          "type": "integer"
         },
         {
          "name": "temp",
          "type": "number"
         },
         {
          "name": "atemp",
          "type": "number"
         },
         {
          "name": "hum",
          "type": "number"
         },
         {
          "name": "windspeed",
          "type": "number"
         },
         {
          "name": "casual",
          "type": "integer"
         },
         {
          "name": "registered",
          "type": "integer"
         },
         {
          "name": "cnt",
          "type": "integer"
         }
        ],
        "primaryKey": [
         "index"
        ],
        "pandas_version": "0.20.0"
       },
       "data": [
        {
         "index": 0,
         "instant": 1,
         "dteday": "2011-01-01",
         "season": 1,
         "yr": 0,
         "mnth": 1,
         "holiday": 0,
         "weekday": 6,
         "workingday": 0,
         "weathersit": 2,
         "temp": 0.344167,
         "atemp": 0.363625,
         "hum": 0.805833,
         "windspeed": 0.160446,
         "casual": 331,
         "registered": 654,
         "cnt": 985
        },
        {
         "index": 1,
         "instant": 2,
         "dteday": "2011-01-02",
         "season": 1,
         "yr": 0,
         "mnth": 1,
         "holiday": 0,
         "weekday": 0,
         "workingday": 0,
         "weathersit": 2,
         "temp": 0.363478,
         "atemp": 0.353739,
         "hum": 0.696087,
         "windspeed": 0.248539,
         "casual": 131,
         "registered": 670,
         "cnt": 801
        },
        {
         "index": 2,
         "instant": 3,
         "dteday": "2011-01-03",
         "season": 1,
         "yr": 0,
         "mnth": 1,
         "holiday": 0,
         "weekday": 1,
         "workingday": 1,
         "weathersit": 1,
         "temp": 0.196364,
         "atemp": 0.189405,
         "hum": 0.437273,
         "windspeed": 0.248309,
         "casual": 120,
         "registered": 1229,
         "cnt": 1349
        },
        {
         "index": 3,
         "instant": 4,
         "dteday": "2011-01-04",
         "season": 1,
         "yr": 0,
         "mnth": 1,
         "holiday": 0,
         "weekday": 2,
         "workingday": 1,
         "weathersit": 1,
         "temp": 0.2,
         "atemp": 0.212122,
         "hum": 0.590435,
         "windspeed": 0.160296,
         "casual": 108,
         "registered": 1454,
         "cnt": 1562
        },
        {
         "index": 4,
         "instant": 5,
         "dteday": "2011-01-05",
         "season": 1,
         "yr": 0,
         "mnth": 1,
         "holiday": 0,
         "weekday": 3,
         "workingday": 1,
         "weathersit": 1,
         "temp": 0.226957,
         "atemp": 0.22927,
         "hum": 0.436957,
         "windspeed": 0.1869,
         "casual": 82,
         "registered": 1518,
         "cnt": 1600
        }
       ]
      }
     },
     "metadata": {},
     "execution_count": 16
    }
   ],
   "source": [
    "daily_data.head(5)"
   ]
  },
  {
   "cell_type": "code",
   "execution_count": 15,
   "metadata": {},
   "outputs": [
    {
     "output_type": "execute_result",
     "data": {
      "text/plain": "instant       731\ndteday        731\nseason        731\nyr            731\nmnth          731\nholiday       731\nweekday       731\nworkingday    731\nweathersit    731\ntemp          731\natemp         731\nhum           731\nwindspeed     731\ncasual        731\nregistered    731\ncnt           731\ndtype: int64",
      "application/vnd.dataresource+json": {
       "schema": {
        "fields": [
         {
          "name": "index",
          "type": "string"
         },
         {
          "name": "values",
          "type": "integer"
         }
        ],
        "primaryKey": [
         "index"
        ],
        "pandas_version": "0.20.0"
       },
       "data": [
        {
         "index": "instant",
         "values": 731
        },
        {
         "index": "dteday",
         "values": 731
        },
        {
         "index": "season",
         "values": 731
        },
        {
         "index": "yr",
         "values": 731
        },
        {
         "index": "mnth",
         "values": 731
        },
        {
         "index": "holiday",
         "values": 731
        },
        {
         "index": "weekday",
         "values": 731
        },
        {
         "index": "workingday",
         "values": 731
        },
        {
         "index": "weathersit",
         "values": 731
        },
        {
         "index": "temp",
         "values": 731
        },
        {
         "index": "atemp",
         "values": 731
        },
        {
         "index": "hum",
         "values": 731
        },
        {
         "index": "windspeed",
         "values": 731
        },
        {
         "index": "casual",
         "values": 731
        },
        {
         "index": "registered",
         "values": 731
        },
        {
         "index": "cnt",
         "values": 731
        }
       ]
      }
     },
     "metadata": {},
     "execution_count": 15
    }
   ],
   "source": [
    "daily_data.count()"
   ]
  },
  {
   "cell_type": "code",
   "execution_count": 10,
   "metadata": {},
   "outputs": [
    {
     "output_type": "execute_result",
     "data": {
      "text/plain": "     instant      dteday  season  yr  mnth  holiday  weekday  workingday  \\\n686      687  2012-11-17       4   1    11        0        6           0   \n190      191  2011-07-10       3   0     7        0        0           0   \n529      530  2012-06-13       2   1     6        0        3           1   \n145      146  2011-05-26       2   0     5        0        4           1   \n402      403  2012-02-07       1   1     2        0        2           1   \n706      707  2012-12-07       4   1    12        0        5           1   \n\n     weathersit      temp     atemp       hum  windspeed  casual  registered  \\\n686           1  0.325000  0.326383  0.545417   0.179729    1313        4316   \n190           1  0.747500  0.690025  0.578333   0.183471    1743        3138   \n529           1  0.655833  0.611117  0.582083   0.343279    1173        6248   \n145           1  0.708333  0.654688  0.677500   0.199642     758        3919   \n402           1  0.354167  0.361104  0.496250   0.147379     199        4176   \n706           2  0.320833  0.321958  0.764167   0.130600     349        4659   \n\n      cnt  \n686  5629  \n190  4881  \n529  7421  \n145  4677  \n402  4375  \n706  5008  ",
      "text/html": "<div>\n<style scoped>\n    .dataframe tbody tr th:only-of-type {\n        vertical-align: middle;\n    }\n\n    .dataframe tbody tr th {\n        vertical-align: top;\n    }\n\n    .dataframe thead th {\n        text-align: right;\n    }\n</style>\n<table border=\"1\" class=\"dataframe\">\n  <thead>\n    <tr style=\"text-align: right;\">\n      <th></th>\n      <th>instant</th>\n      <th>dteday</th>\n      <th>season</th>\n      <th>yr</th>\n      <th>mnth</th>\n      <th>holiday</th>\n      <th>weekday</th>\n      <th>workingday</th>\n      <th>weathersit</th>\n      <th>temp</th>\n      <th>atemp</th>\n      <th>hum</th>\n      <th>windspeed</th>\n      <th>casual</th>\n      <th>registered</th>\n      <th>cnt</th>\n    </tr>\n  </thead>\n  <tbody>\n    <tr>\n      <th>686</th>\n      <td>687</td>\n      <td>2012-11-17</td>\n      <td>4</td>\n      <td>1</td>\n      <td>11</td>\n      <td>0</td>\n      <td>6</td>\n      <td>0</td>\n      <td>1</td>\n      <td>0.325000</td>\n      <td>0.326383</td>\n      <td>0.545417</td>\n      <td>0.179729</td>\n      <td>1313</td>\n      <td>4316</td>\n      <td>5629</td>\n    </tr>\n    <tr>\n      <th>190</th>\n      <td>191</td>\n      <td>2011-07-10</td>\n      <td>3</td>\n      <td>0</td>\n      <td>7</td>\n      <td>0</td>\n      <td>0</td>\n      <td>0</td>\n      <td>1</td>\n      <td>0.747500</td>\n      <td>0.690025</td>\n      <td>0.578333</td>\n      <td>0.183471</td>\n      <td>1743</td>\n      <td>3138</td>\n      <td>4881</td>\n    </tr>\n    <tr>\n      <th>529</th>\n      <td>530</td>\n      <td>2012-06-13</td>\n      <td>2</td>\n      <td>1</td>\n      <td>6</td>\n      <td>0</td>\n      <td>3</td>\n      <td>1</td>\n      <td>1</td>\n      <td>0.655833</td>\n      <td>0.611117</td>\n      <td>0.582083</td>\n      <td>0.343279</td>\n      <td>1173</td>\n      <td>6248</td>\n      <td>7421</td>\n    </tr>\n    <tr>\n      <th>145</th>\n      <td>146</td>\n      <td>2011-05-26</td>\n      <td>2</td>\n      <td>0</td>\n      <td>5</td>\n      <td>0</td>\n      <td>4</td>\n      <td>1</td>\n      <td>1</td>\n      <td>0.708333</td>\n      <td>0.654688</td>\n      <td>0.677500</td>\n      <td>0.199642</td>\n      <td>758</td>\n      <td>3919</td>\n      <td>4677</td>\n    </tr>\n    <tr>\n      <th>402</th>\n      <td>403</td>\n      <td>2012-02-07</td>\n      <td>1</td>\n      <td>1</td>\n      <td>2</td>\n      <td>0</td>\n      <td>2</td>\n      <td>1</td>\n      <td>1</td>\n      <td>0.354167</td>\n      <td>0.361104</td>\n      <td>0.496250</td>\n      <td>0.147379</td>\n      <td>199</td>\n      <td>4176</td>\n      <td>4375</td>\n    </tr>\n    <tr>\n      <th>706</th>\n      <td>707</td>\n      <td>2012-12-07</td>\n      <td>4</td>\n      <td>1</td>\n      <td>12</td>\n      <td>0</td>\n      <td>5</td>\n      <td>1</td>\n      <td>2</td>\n      <td>0.320833</td>\n      <td>0.321958</td>\n      <td>0.764167</td>\n      <td>0.130600</td>\n      <td>349</td>\n      <td>4659</td>\n      <td>5008</td>\n    </tr>\n  </tbody>\n</table>\n</div>",
      "application/vnd.dataresource+json": {
       "schema": {
        "fields": [
         {
          "name": "index",
          "type": "integer"
         },
         {
          "name": "instant",
          "type": "integer"
         },
         {
          "name": "dteday",
          "type": "string"
         },
         {
          "name": "season",
          "type": "integer"
         },
         {
          "name": "yr",
          "type": "integer"
         },
         {
          "name": "mnth",
          "type": "integer"
         },
         {
          "name": "holiday",
          "type": "integer"
         },
         {
          "name": "weekday",
          "type": "integer"
         },
         {
          "name": "workingday",
          "type": "integer"
         },
         {
          "name": "weathersit",
          "type": "integer"
         },
         {
          "name": "temp",
          "type": "number"
         },
         {
          "name": "atemp",
          "type": "number"
         },
         {
          "name": "hum",
          "type": "number"
         },
         {
          "name": "windspeed",
          "type": "number"
         },
         {
          "name": "casual",
          "type": "integer"
         },
         {
          "name": "registered",
          "type": "integer"
         },
         {
          "name": "cnt",
          "type": "integer"
         }
        ],
        "primaryKey": [
         "index"
        ],
        "pandas_version": "0.20.0"
       },
       "data": [
        {
         "index": 686,
         "instant": 687,
         "dteday": "2012-11-17",
         "season": 4,
         "yr": 1,
         "mnth": 11,
         "holiday": 0,
         "weekday": 6,
         "workingday": 0,
         "weathersit": 1,
         "temp": 0.325,
         "atemp": 0.326383,
         "hum": 0.545417,
         "windspeed": 0.179729,
         "casual": 1313,
         "registered": 4316,
         "cnt": 5629
        },
        {
         "index": 190,
         "instant": 191,
         "dteday": "2011-07-10",
         "season": 3,
         "yr": 0,
         "mnth": 7,
         "holiday": 0,
         "weekday": 0,
         "workingday": 0,
         "weathersit": 1,
         "temp": 0.7475,
         "atemp": 0.690025,
         "hum": 0.578333,
         "windspeed": 0.183471,
         "casual": 1743,
         "registered": 3138,
         "cnt": 4881
        },
        {
         "index": 529,
         "instant": 530,
         "dteday": "2012-06-13",
         "season": 2,
         "yr": 1,
         "mnth": 6,
         "holiday": 0,
         "weekday": 3,
         "workingday": 1,
         "weathersit": 1,
         "temp": 0.655833,
         "atemp": 0.611117,
         "hum": 0.582083,
         "windspeed": 0.343279,
         "casual": 1173,
         "registered": 6248,
         "cnt": 7421
        },
        {
         "index": 145,
         "instant": 146,
         "dteday": "2011-05-26",
         "season": 2,
         "yr": 0,
         "mnth": 5,
         "holiday": 0,
         "weekday": 4,
         "workingday": 1,
         "weathersit": 1,
         "temp": 0.708333,
         "atemp": 0.654688,
         "hum": 0.6775,
         "windspeed": 0.199642,
         "casual": 758,
         "registered": 3919,
         "cnt": 4677
        },
        {
         "index": 402,
         "instant": 403,
         "dteday": "2012-02-07",
         "season": 1,
         "yr": 1,
         "mnth": 2,
         "holiday": 0,
         "weekday": 2,
         "workingday": 1,
         "weathersit": 1,
         "temp": 0.354167,
         "atemp": 0.361104,
         "hum": 0.49625,
         "windspeed": 0.147379,
         "casual": 199,
         "registered": 4176,
         "cnt": 4375
        },
        {
         "index": 706,
         "instant": 707,
         "dteday": "2012-12-07",
         "season": 4,
         "yr": 1,
         "mnth": 12,
         "holiday": 0,
         "weekday": 5,
         "workingday": 1,
         "weathersit": 2,
         "temp": 0.320833,
         "atemp": 0.321958,
         "hum": 0.764167,
         "windspeed": 0.1306,
         "casual": 349,
         "registered": 4659,
         "cnt": 5008
        }
       ]
      }
     },
     "metadata": {},
     "execution_count": 10
    }
   ],
   "source": [
    "daily_data = pd.read_csv(os.path.join(\"D:\\\\CV\\\\Arif\\\\2020\\\\Germany\\\\Tech_Round\\\\input\",\"day.csv\"), sep=',')\n",
    "daily_data.sample(6)"
   ]
  },
  {
   "cell_type": "code",
   "execution_count": 7,
   "metadata": {},
   "outputs": [
    {
     "output_type": "execute_result",
     "data": {
      "text/plain": "     instant      dteday  season  yr  mnth  holiday  weekday  workingday  \\\n544      545  2012-06-28       3   1     6        0        4           1   \n69        70  2011-03-11       1   0     3        0        5           1   \n427      428  2012-03-03       1   1     3        0        6           0   \n425      426  2012-03-01       1   1     3        0        4           1   \n219      220  2011-08-08       3   0     8        0        1           1   \n176      177  2011-06-26       3   0     6        0        0           0   \n\n     weathersit      temp     atemp       hum  windspeed  casual  registered  \\\n544           1  0.749167  0.675512  0.422500   0.171650     921        5958   \n69            2  0.316522  0.305000  0.649565   0.232970     247        1730   \n427           2  0.414167  0.413492  0.621250   0.161079     956        3110   \n425           1  0.485833  0.475371  0.615417   0.226987     325        4665   \n219           1  0.765000  0.703283  0.592083   0.192175     846        3480   \n176           1  0.680000  0.637629  0.513333   0.094533    1920        3385   \n\n      cnt  \n544  6879  \n69   1977  \n427  4066  \n425  4990  \n219  4326  \n176  5305  ",
      "text/html": "<div>\n<style scoped>\n    .dataframe tbody tr th:only-of-type {\n        vertical-align: middle;\n    }\n\n    .dataframe tbody tr th {\n        vertical-align: top;\n    }\n\n    .dataframe thead th {\n        text-align: right;\n    }\n</style>\n<table border=\"1\" class=\"dataframe\">\n  <thead>\n    <tr style=\"text-align: right;\">\n      <th></th>\n      <th>instant</th>\n      <th>dteday</th>\n      <th>season</th>\n      <th>yr</th>\n      <th>mnth</th>\n      <th>holiday</th>\n      <th>weekday</th>\n      <th>workingday</th>\n      <th>weathersit</th>\n      <th>temp</th>\n      <th>atemp</th>\n      <th>hum</th>\n      <th>windspeed</th>\n      <th>casual</th>\n      <th>registered</th>\n      <th>cnt</th>\n    </tr>\n  </thead>\n  <tbody>\n    <tr>\n      <th>544</th>\n      <td>545</td>\n      <td>2012-06-28</td>\n      <td>3</td>\n      <td>1</td>\n      <td>6</td>\n      <td>0</td>\n      <td>4</td>\n      <td>1</td>\n      <td>1</td>\n      <td>0.749167</td>\n      <td>0.675512</td>\n      <td>0.422500</td>\n      <td>0.171650</td>\n      <td>921</td>\n      <td>5958</td>\n      <td>6879</td>\n    </tr>\n    <tr>\n      <th>69</th>\n      <td>70</td>\n      <td>2011-03-11</td>\n      <td>1</td>\n      <td>0</td>\n      <td>3</td>\n      <td>0</td>\n      <td>5</td>\n      <td>1</td>\n      <td>2</td>\n      <td>0.316522</td>\n      <td>0.305000</td>\n      <td>0.649565</td>\n      <td>0.232970</td>\n      <td>247</td>\n      <td>1730</td>\n      <td>1977</td>\n    </tr>\n    <tr>\n      <th>427</th>\n      <td>428</td>\n      <td>2012-03-03</td>\n      <td>1</td>\n      <td>1</td>\n      <td>3</td>\n      <td>0</td>\n      <td>6</td>\n      <td>0</td>\n      <td>2</td>\n      <td>0.414167</td>\n      <td>0.413492</td>\n      <td>0.621250</td>\n      <td>0.161079</td>\n      <td>956</td>\n      <td>3110</td>\n      <td>4066</td>\n    </tr>\n    <tr>\n      <th>425</th>\n      <td>426</td>\n      <td>2012-03-01</td>\n      <td>1</td>\n      <td>1</td>\n      <td>3</td>\n      <td>0</td>\n      <td>4</td>\n      <td>1</td>\n      <td>1</td>\n      <td>0.485833</td>\n      <td>0.475371</td>\n      <td>0.615417</td>\n      <td>0.226987</td>\n      <td>325</td>\n      <td>4665</td>\n      <td>4990</td>\n    </tr>\n    <tr>\n      <th>219</th>\n      <td>220</td>\n      <td>2011-08-08</td>\n      <td>3</td>\n      <td>0</td>\n      <td>8</td>\n      <td>0</td>\n      <td>1</td>\n      <td>1</td>\n      <td>1</td>\n      <td>0.765000</td>\n      <td>0.703283</td>\n      <td>0.592083</td>\n      <td>0.192175</td>\n      <td>846</td>\n      <td>3480</td>\n      <td>4326</td>\n    </tr>\n    <tr>\n      <th>176</th>\n      <td>177</td>\n      <td>2011-06-26</td>\n      <td>3</td>\n      <td>0</td>\n      <td>6</td>\n      <td>0</td>\n      <td>0</td>\n      <td>0</td>\n      <td>1</td>\n      <td>0.680000</td>\n      <td>0.637629</td>\n      <td>0.513333</td>\n      <td>0.094533</td>\n      <td>1920</td>\n      <td>3385</td>\n      <td>5305</td>\n    </tr>\n  </tbody>\n</table>\n</div>",
      "application/vnd.dataresource+json": {
       "schema": {
        "fields": [
         {
          "name": "index",
          "type": "integer"
         },
         {
          "name": "instant",
          "type": "integer"
         },
         {
          "name": "dteday",
          "type": "string"
         },
         {
          "name": "season",
          "type": "integer"
         },
         {
          "name": "yr",
          "type": "integer"
         },
         {
          "name": "mnth",
          "type": "integer"
         },
         {
          "name": "holiday",
          "type": "integer"
         },
         {
          "name": "weekday",
          "type": "integer"
         },
         {
          "name": "workingday",
          "type": "integer"
         },
         {
          "name": "weathersit",
          "type": "integer"
         },
         {
          "name": "temp",
          "type": "number"
         },
         {
          "name": "atemp",
          "type": "number"
         },
         {
          "name": "hum",
          "type": "number"
         },
         {
          "name": "windspeed",
          "type": "number"
         },
         {
          "name": "casual",
          "type": "integer"
         },
         {
          "name": "registered",
          "type": "integer"
         },
         {
          "name": "cnt",
          "type": "integer"
         }
        ],
        "primaryKey": [
         "index"
        ],
        "pandas_version": "0.20.0"
       },
       "data": [
        {
         "index": 544,
         "instant": 545,
         "dteday": "2012-06-28",
         "season": 3,
         "yr": 1,
         "mnth": 6,
         "holiday": 0,
         "weekday": 4,
         "workingday": 1,
         "weathersit": 1,
         "temp": 0.749167,
         "atemp": 0.675512,
         "hum": 0.4225,
         "windspeed": 0.17165,
         "casual": 921,
         "registered": 5958,
         "cnt": 6879
        },
        {
         "index": 69,
         "instant": 70,
         "dteday": "2011-03-11",
         "season": 1,
         "yr": 0,
         "mnth": 3,
         "holiday": 0,
         "weekday": 5,
         "workingday": 1,
         "weathersit": 2,
         "temp": 0.316522,
         "atemp": 0.305,
         "hum": 0.649565,
         "windspeed": 0.23297,
         "casual": 247,
         "registered": 1730,
         "cnt": 1977
        },
        {
         "index": 427,
         "instant": 428,
         "dteday": "2012-03-03",
         "season": 1,
         "yr": 1,
         "mnth": 3,
         "holiday": 0,
         "weekday": 6,
         "workingday": 0,
         "weathersit": 2,
         "temp": 0.414167,
         "atemp": 0.413492,
         "hum": 0.62125,
         "windspeed": 0.161079,
         "casual": 956,
         "registered": 3110,
         "cnt": 4066
        },
        {
         "index": 425,
         "instant": 426,
         "dteday": "2012-03-01",
         "season": 1,
         "yr": 1,
         "mnth": 3,
         "holiday": 0,
         "weekday": 4,
         "workingday": 1,
         "weathersit": 1,
         "temp": 0.485833,
         "atemp": 0.475371,
         "hum": 0.615417,
         "windspeed": 0.226987,
         "casual": 325,
         "registered": 4665,
         "cnt": 4990
        },
        {
         "index": 219,
         "instant": 220,
         "dteday": "2011-08-08",
         "season": 3,
         "yr": 0,
         "mnth": 8,
         "holiday": 0,
         "weekday": 1,
         "workingday": 1,
         "weathersit": 1,
         "temp": 0.765,
         "atemp": 0.703283,
         "hum": 0.592083,
         "windspeed": 0.192175,
         "casual": 846,
         "registered": 3480,
         "cnt": 4326
        },
        {
         "index": 176,
         "instant": 177,
         "dteday": "2011-06-26",
         "season": 3,
         "yr": 0,
         "mnth": 6,
         "holiday": 0,
         "weekday": 0,
         "workingday": 0,
         "weathersit": 1,
         "temp": 0.68,
         "atemp": 0.637629,
         "hum": 0.513333,
         "windspeed": 0.0945333,
         "casual": 1920,
         "registered": 3385,
         "cnt": 5305
        }
       ]
      }
     },
     "metadata": {},
     "execution_count": 7
    }
   ],
   "source": [
    "# fetching the input data\n",
    "daily_data = pd.read_csv(os.path.join('D:\\\\CV\\\\Arif\\\\2020\\\\Germany\\\\Tech_Round\\\\input', 'day.csv'), sep=',')\n",
    "#hourly_data = pd.read_csv(\"./input/hour.csv\", sep=',')\n",
    "\n",
    "daily_data.sample(6)\n",
    "#hourly_data.sample(6)"
   ]
  },
  {
   "cell_type": "markdown",
   "metadata": {},
   "source": [
    "## Part 2 - Data Processing and Analysis\n",
    "\n",
    "**Tasks:**\n",
    "1. Perform all needed steps to load and clean the data. Please comment the major steps of your code.\n",
    "2. Visualise rentals of bikes per day.\n",
    "3. Assume that each bike has exactly maximum 12 rentals per day.\n",
    "    * Find the maximum number of bicycles `nmax` that was needed in any one day.\n",
    "    * Find the 95%-percentile of bicycles `n95` that was needed in any one day.\n",
    "5. Vizalize the distribution of the covered days depending on the number of available bicycles (e.g. `nmax` bicycles would cover 100% of days, `n95` covers 95%, etc.)\n"
   ]
  },
  {
   "cell_type": "code",
   "execution_count": null,
   "metadata": {
    "collapsed": true
   },
   "outputs": [],
   "source": [
    "# TODO: your code comes here"
   ]
  },
  {
   "cell_type": "markdown",
   "metadata": {},
   "source": [
    "**Answers / comments / reasoning:**\n",
    "\n",
    "-"
   ]
  },
  {
   "cell_type": "markdown",
   "metadata": {},
   "source": [
    "## Part 3 - Building prediction models\n",
    "\n",
    "**Tasks:**\n",
    "1. Define a test metric for predicting the daily demand for bike sharing, which you would like to use to measure the accuracy of the constructed models, and explain your choice.\n",
    "2. Build a demand prediction model with Random Forest, preferably making use of following python libraries: scikit-learn. \n",
    "3. Report the value of the chosen test metric on the provided data. "
   ]
  },
  {
   "cell_type": "code",
   "execution_count": null,
   "metadata": {
    "collapsed": true
   },
   "outputs": [],
   "source": [
    "# TODO: your code comes here"
   ]
  },
  {
   "cell_type": "markdown",
   "metadata": {},
   "source": [
    "**Answers / comments / reasoning:**\n",
    "\n",
    "-"
   ]
  },
  {
   "cell_type": "markdown",
   "metadata": {},
   "source": [
    "## Part 4 - Fine-tuning of one of the models\n",
    "\n",
    "**Tasks:**\n",
    "1. Take one of the above constructed models and finetune its most important hyperparameters\n",
    "2. Explain your choice for the hyperparameters\n",
    "3. Report the improvement of your test metric"
   ]
  },
  {
   "cell_type": "code",
   "execution_count": null,
   "metadata": {
    "collapsed": true
   },
   "outputs": [],
   "source": [
    "# TODO: your code comes here"
   ]
  },
  {
   "cell_type": "markdown",
   "metadata": {},
   "source": [
    "**Answers / comments / reasoning:**\n",
    "\n",
    "-"
   ]
  },
  {
   "cell_type": "markdown",
   "metadata": {},
   "source": [
    "## Part 5 - Optimise (revenue - cost) by adapting number of bicycles\n",
    "**Tasks:**\n",
    "1. Assume that the revenue per rental is x (your own assumed number).\n",
    "2. Each bicycle has costs of y per day (your own assumed number).\n",
    "3. Determine residuals from your test set (after predicting demand of bike sharing). Consider the residuals as random shocks affecting the average values and resulting in real observed values. Assume this random variable is gaussian distributed. Calculate mean and standard deviation and use it as approximation for a gaussian distribution where you can sample from.\n",
    "4. Simulate the profit with a fixed number of `nmax` (from part 2) bicycles for the next 30 days given that the real observed values are expected to be different from average predicted values. Calculate the demand by adding the simulated residuals to calculated expected values from the data you put aside in part 1.\n",
    "5. Use grid search along the number of available bikes to find the optimal number of bikes to obtain highest profit (revenue - cost) from simulations.\n"
   ]
  },
  {
   "cell_type": "code",
   "execution_count": null,
   "metadata": {
    "collapsed": true
   },
   "outputs": [],
   "source": [
    "# TODO: your code comes here"
   ]
  },
  {
   "cell_type": "markdown",
   "metadata": {},
   "source": [
    "**Answers / comments / reasoning:**\n",
    "\n",
    "-"
   ]
  },
  {
   "cell_type": "markdown",
   "metadata": {},
   "source": [
    "## Part 6 - Reflection / comments\n",
    "\n",
    "**Tasks:**\n",
    "(Optional) Please share with us any free form reflection, comments or feedback you have in the context of this test task."
   ]
  },
  {
   "cell_type": "markdown",
   "metadata": {},
   "source": [
    "## Submission\n",
    "\n",
    "Please submit this notebook with your developments in .ipynb and .html formats as well as your requirements.txt file."
   ]
  },
  {
   "cell_type": "markdown",
   "metadata": {},
   "source": [
    "## References\n",
    "\n",
    "[1] Lichman, M. (2013). UCI Machine Learning Repository [http://archive.ics.uci.edu/ml]. Irvine, CA: University of California, School of Information and Computer Science. "
   ]
  }
 ],
 "metadata": {
  "kernelspec": {
   "display_name": "Python 3.7.7 64-bit ('venv': venv)",
   "language": "python",
   "name": "python_defaultSpec_1598134659591"
  },
  "language_info": {
   "codemirror_mode": {
    "name": "ipython",
    "version": 3
   },
   "file_extension": ".py",
   "mimetype": "text/x-python",
   "name": "python",
   "nbconvert_exporter": "python",
   "pygments_lexer": "ipython3",
   "version": "3.7.7-final"
  }
 },
 "nbformat": 4,
 "nbformat_minor": 2
}